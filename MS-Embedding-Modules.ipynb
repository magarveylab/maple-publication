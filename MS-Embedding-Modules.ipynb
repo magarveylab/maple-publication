{
 "cells": [
  {
   "cell_type": "markdown",
   "id": "16432e6d-0a0f-4acc-b2b2-1789169f47a6",
   "metadata": {},
   "source": [
    "# Introduction\n",
    "The following modules operate within the Conda environment `MapleEmbedder-cu11.7`, which is configured for MAPLE’s deep learning-based inference workflows.  These modules embed mass spectrometry features (MS¹ peaks and MS² fragmentation patterns) into vector representations using pretrained Graphormer models. The provided pipelines process mzXML files after peak picking and prepare the data for downstream metabolomic inference and knowledge graph integration."
   ]
  },
  {
   "cell_type": "markdown",
   "id": "3dfa3eb1-dda6-4652-a4d0-b841a3ba9eeb",
   "metadata": {},
   "source": [
    "# Embedding MS<sup>1</sup> Signals\n",
    "MAPLE generates embeddings that capture contextual relationships between co-eluting metabolites, enabling the construction of MS<sup>1</sup>-level similarity networks. These networks can be used to assess metabolomic uniqueness across taxa and prioritize lineage-specific chemical signatures.\n",
    "\n",
    "Currently, we deployed a cloud-based virtual machine hosting Qdrant vector databases. However, performance may vary depending on concurrent usage by other users, network latency, and API call volume. Because this cloud instance is shared and subject to platform resource limits, response times may be slower during peak usage periods. For faster and more reliable performance, we recommend deploying a local instance of the vector database. This allows you to allocate dedicated CPU resources and avoid the bottlenecks associated with shared infrastructure. Please refer to the README for setup instructions.\n",
    "\n",
    "All MS<sup>1</sup>-level  peaks included in the vector database were generated using the same chromatographic method and instrumentation. To ensure accurate retrieval of related peaks, query peaks must be acquired under similar experimental conditions. Related peaks are matched based on retention time (+/- 30 seconds), monoisotopic mass (10 ppm tolerance), and embedding similarity (top 100 most contextually similar metabolites). The following code returns the current number of peaks stored in the database."
   ]
  },
  {
   "cell_type": "code",
   "execution_count": 1,
   "id": "c68ff7ec-a588-47b7-8941-022878d71949",
   "metadata": {},
   "outputs": [
    {
     "name": "stdout",
     "output_type": "stream",
     "text": [
      "Number of MS1 Peaks: 29740226\n"
     ]
    }
   ],
   "source": [
    "from qdrant_client import QdrantClient\n",
    "\n",
    "# by default we connect to the google cloud VM\n",
    "client = QdrantClient(host=\"34.66.123.176\", port=6333)\n",
    "info = client.get_collection(\"ms1_full_collection\")\n",
    "num_points = info.points_count\n",
    "print(f\"Number of MS1 Peaks: {num_points}\")"
   ]
  },
  {
   "cell_type": "markdown",
   "id": "26ebd703-71c4-47f1-a6c6-21f52466f454",
   "metadata": {},
   "source": [
    "Using the JSON output from the peak picking module, MS<sup>1</sup>-level contextual embeddings can be computed. These embeddings aim to capture the biological context of each MS feature, providing an additional dimension of comparison, alongside mass and retention time, for identifying related signals."
   ]
  },
  {
   "cell_type": "code",
   "execution_count": 2,
   "id": "26f9f7bf-4416-4e15-bcb6-bf3ad4dbb9a2",
   "metadata": {},
   "outputs": [],
   "source": [
    "from Maple.Embedder import run_MS1Former_on_mzXML\n",
    "\n",
    "run_MS1Former_on_mzXML(\n",
    "    peaks_fp=\"sample_output/20109_peaks.json\", # input data\n",
    "    output_fp=\"sample_output/20109_MS1Former_embeddings.pkl\",\n",
    "    gpu_id=0\n",
    ")"
   ]
  },
  {
   "cell_type": "markdown",
   "id": "87af6cba-fff0-4980-8395-6e63b381c0f1",
   "metadata": {},
   "source": [
    "This is an example spectral embedding, which can be used to compare metabolic profiles and visualize sample clustering by taxonomic relatedness using UMAP."
   ]
  },
  {
   "cell_type": "code",
   "execution_count": 3,
   "id": "4b125151-f648-4ce7-9548-11ac8a261cbb",
   "metadata": {},
   "outputs": [
    {
     "name": "stdout",
     "output_type": "stream",
     "text": [
      "[-3.8981495e+00 -1.3277055e+00  1.6500206e+00  2.9224319e+00\n",
      "  1.5815086e+00 -3.9603739e+00  6.6490784e+00 -4.0497327e+00\n",
      "  6.8188375e-01 -2.1867735e+00 -5.5364203e+00  6.8557801e+00\n",
      " -6.7879987e+00  1.8217114e+00 -1.8177940e+00 -4.3249135e+00\n",
      " -1.2523000e-01 -1.6304187e-01  8.0084810e+00 -3.2079360e+00\n",
      "  5.5583405e+00  3.8594007e+00 -5.6871185e+00 -5.9769100e-01\n",
      "  6.0343027e-01  3.7484665e+00  4.4908389e-01 -1.9937955e+00\n",
      " -1.3957467e+00  1.7780576e+00 -3.9347951e+00  5.6917858e-01\n",
      " -3.6425056e+00  1.1756643e+00  9.1851330e-01  1.8546214e+00\n",
      " -5.3653449e-01 -3.6172569e+00  6.1181359e+00 -6.2345564e-01\n",
      " -9.8220104e-01  3.3371737e+00 -5.5778213e+00  4.2966428e+00\n",
      " -2.4021327e+00 -3.3779266e-01  3.3927186e+00 -6.6053414e+00\n",
      " -8.2158737e+00 -5.2275443e+00  1.9655819e+00  2.3178278e-01\n",
      "  6.3059753e-01 -5.4222226e+00 -4.7024903e+00  3.3142669e+00\n",
      " -4.8132739e+00  3.8984404e+00  3.8266685e+00 -2.3295348e+00\n",
      "  2.2599087e+00 -2.1927767e-01 -7.2922057e-01 -4.0921397e+00\n",
      " -2.1875234e+00  3.6283817e+00  8.9260258e-02  1.6580186e+00\n",
      "  1.6706648e+00  4.7020119e-02 -2.1989396e+00  1.0117190e+00\n",
      " -3.5619633e+00 -1.5553032e+00  2.3482907e+00  3.7478836e+00\n",
      " -6.4807755e-01  4.4395242e+00 -1.3848844e+00 -4.4478278e+00\n",
      "  1.8323056e+00 -4.2879748e-01 -1.8767670e+00 -4.6521182e+00\n",
      " -3.7857754e+00  2.8034327e+00  4.3549967e+00 -2.4825675e+00\n",
      "  4.1506224e+00 -1.4984497e+00 -7.5158200e+00  2.7723591e+00\n",
      " -7.3176640e-01  4.7228742e+00 -3.2413938e+00 -1.6255045e+00\n",
      " -5.3525800e-01  3.8715677e+00 -7.4823700e-05 -2.3396175e+00\n",
      " -2.3869803e+00  3.7990990e-01 -1.8236823e+00 -2.4648533e+00\n",
      " -9.5221872e+00  4.7892323e+00  5.0310531e+00 -1.5250814e-01\n",
      " -4.1594520e+00 -3.0531979e+00  2.6341879e+00  2.1983936e+00\n",
      "  2.7618895e+00  2.0530159e+00 -7.1575105e-02  1.1114082e+00\n",
      "  3.6899891e+00  3.9493885e+00 -5.5940145e-01 -3.0807712e+00\n",
      " -4.0538888e+00 -2.0145142e+00  4.6401725e+00 -2.3015668e+00\n",
      "  2.0730250e+00 -2.4588792e+00  3.8997390e+00  1.2583727e+00]\n"
     ]
    }
   ],
   "source": [
    "import pickle\n",
    "\n",
    "data = pickle.load(open(\"sample_output/20109_MS1Former_embeddings.pkl\", \"rb\"))\n",
    "print(data['spectra_embedding'])\n"
   ]
  },
  {
   "cell_type": "markdown",
   "id": "b5bb8a34-fcaf-4272-b523-24a3403778c8",
   "metadata": {},
   "source": [
    "The peak embeddings are stored as a dictionary and can be referenced using the `peak_id` from the original input file. While this is an intermediate file, it’s useful to understand its structure so you can access the embedded vectors for any downstream analysis."
   ]
  },
  {
   "cell_type": "code",
   "execution_count": 4,
   "id": "109676d2-6a35-4aba-9aa0-4718da35cab4",
   "metadata": {},
   "outputs": [
    {
     "name": "stdout",
     "output_type": "stream",
     "text": [
      "Embedding for MS1 Peak ID 1310723\n",
      "[ -2.9566813   -0.61362964   2.7477226    3.4256096    2.1508465\n",
      "  -5.2667255    8.466292    -3.9359527    0.6548786   -2.135022\n",
      "  -4.593832     7.0485954   -8.525942     2.7478826   -2.408204\n",
      "  -3.5771382   -0.632742     0.96321845   7.6369667   -4.463799\n",
      "   6.4599214    4.8708143   -6.548872    -1.8393247    1.8864954\n",
      "   4.4927397    1.2182733   -4.112611    -1.5134687   -0.08773378\n",
      "  -5.456712     1.0186031   -3.7417157    0.99092036   1.6092199\n",
      "   2.4876695   -0.41741157  -2.894666     5.1541023   -0.82748556\n",
      "  -0.79933286   3.6033702   -6.0620866    4.395275    -2.0441446\n",
      "  -1.2979503    3.5587027   -6.5615954   -9.203628    -5.8445168\n",
      "   2.8178449   -0.14990334   0.6845444   -5.67352     -5.6418915\n",
      "   5.2566533   -4.1525936    3.7429066    5.209329    -2.9008915\n",
      "   1.0177721    0.50938565  -2.6087213   -6.738433    -3.2829165\n",
      "   2.8265395   -0.9556246   -0.20054305   0.7810776    1.4643962\n",
      "  -1.4790617    0.2756552   -3.5523725   -1.7743621    1.8460617\n",
      "   5.875826    -1.674098     4.6273847   -2.5378654   -4.820957\n",
      "   3.9443016   -1.8782294   -1.0597391   -4.2021365   -5.0297794\n",
      "   3.2866898    5.4739914   -1.9404194    3.4445508   -0.81675184\n",
      "  -8.005783     3.3628342   -0.21121718   3.9064574   -2.9607248\n",
      "  -1.4045323   -0.86644006   3.9679322    0.31811705  -1.9817612\n",
      "  -3.5420332   -0.28865516  -0.8707313   -2.327532   -11.179735\n",
      "   4.1139164    3.8852124   -1.6085553   -5.1334143   -2.5555172\n",
      "   3.878509     3.118495     2.73884      1.8134958   -0.78083634\n",
      "   1.7998077    4.2408204    2.9184618   -0.85192156  -3.4070501\n",
      "  -3.8826985   -2.4444437    4.190527    -1.6932461    2.784469\n",
      "  -4.2050877    3.3657098    1.9372731 ]\n"
     ]
    }
   ],
   "source": [
    "import pickle\n",
    "\n",
    "data = pickle.load(open(\"sample_output/20109_MS1Former_embeddings.pkl\", \"rb\"))\n",
    "\n",
    "print(\"Embedding for MS1 Peak ID 1310723\")\n",
    "print(data['peak_embeddings'][1310723])\n"
   ]
  },
  {
   "cell_type": "markdown",
   "id": "bd265c1e-d6a9-4242-84f3-14ea766ebc85",
   "metadata": {},
   "source": [
    "After generating MS<sup>1</sup> embeddings, run the following command to compute taxonomy consistency scores. Query taxonomic labels must follow the naming conventions provided in the taxonomy tables located at `Maple/Embedder/dat/taxonomy_tables`. A score of 1 indicates that a signal was found exclusively within the specified taxonomic level. If a score returns `None`, it means no overlapping signals were detected in the current LC–MS/MS database, and a reliable score could not be computed. \n",
    "\n",
    "Running this module on 1,000 peaks takes approximately 1 hour on the cloud VM, as each peak is compared against ~30 million MS<sup>1</sup> entries in the database. To reduce runtime, a parameter is provided to allow selection of specific peaks of interest from your sample."
   ]
  },
  {
   "cell_type": "code",
   "execution_count": 5,
   "id": "a8127245-98b6-4352-8f86-4bd451dbf600",
   "metadata": {},
   "outputs": [
    {
     "name": "stdout",
     "output_type": "stream",
     "text": [
      "Loading existing collection ms1_full_collection.\n"
     ]
    },
    {
     "name": "stderr",
     "output_type": "stream",
     "text": [
      "100%|██████████| 3/3 [00:00<00:00, 11949.58it/s]\n"
     ]
    }
   ],
   "source": [
    "from Maple.Embedder import annotate_mzXML_with_tax_scores\n",
    "\n",
    "annotate_mzXML_with_tax_scores(\n",
    "    peaks_fp=\"sample_output/20109_peaks.json\", # input data\n",
    "    ms1_emb_fp=\"sample_output/20109_MS1Former_embeddings.pkl\", # input data\n",
    "    peak_ids=[1310723, 616210, 616233],\n",
    "    output_fp=\"sample_output/20109_MS1Former_taxscores.csv\",\n",
    "    query_phylum=\"bacteroidetes\",\n",
    "    query_class=\"sphingobacteriia\",\n",
    "    query_order=\"sphingobacteriales\",\n",
    "    query_family=\"chitinophagaceae\",\n",
    "    query_genus=\"chitinophaga\",\n",
    "    use_cloud_service=True\n",
    ")"
   ]
  },
  {
   "cell_type": "markdown",
   "id": "dac2ef40-2cf8-4630-90a1-2e82f20f812b",
   "metadata": {},
   "source": [
    "This is an example output from the module."
   ]
  },
  {
   "cell_type": "code",
   "execution_count": 6,
   "id": "eb53e0b7-9ef0-45fa-bb36-3e1b20a13445",
   "metadata": {},
   "outputs": [
    {
     "data": {
      "text/html": [
       "<div>\n",
       "<style scoped>\n",
       "    .dataframe tbody tr th:only-of-type {\n",
       "        vertical-align: middle;\n",
       "    }\n",
       "\n",
       "    .dataframe tbody tr th {\n",
       "        vertical-align: top;\n",
       "    }\n",
       "\n",
       "    .dataframe thead th {\n",
       "        text-align: right;\n",
       "    }\n",
       "</style>\n",
       "<table border=\"1\" class=\"dataframe\">\n",
       "  <thead>\n",
       "    <tr style=\"text-align: right;\">\n",
       "      <th></th>\n",
       "      <th>peak_id</th>\n",
       "      <th>phylum_score</th>\n",
       "      <th>class_score</th>\n",
       "      <th>order_score</th>\n",
       "      <th>family_score</th>\n",
       "      <th>genus_score</th>\n",
       "    </tr>\n",
       "  </thead>\n",
       "  <tbody>\n",
       "    <tr>\n",
       "      <th>0</th>\n",
       "      <td>1310723</td>\n",
       "      <td>1.00</td>\n",
       "      <td>1.0</td>\n",
       "      <td>1.0</td>\n",
       "      <td>0.00</td>\n",
       "      <td>0.00</td>\n",
       "    </tr>\n",
       "    <tr>\n",
       "      <th>1</th>\n",
       "      <td>616210</td>\n",
       "      <td>0.62</td>\n",
       "      <td>0.5</td>\n",
       "      <td>0.5</td>\n",
       "      <td>0.12</td>\n",
       "      <td>0.12</td>\n",
       "    </tr>\n",
       "    <tr>\n",
       "      <th>2</th>\n",
       "      <td>616233</td>\n",
       "      <td>0.60</td>\n",
       "      <td>0.4</td>\n",
       "      <td>0.4</td>\n",
       "      <td>0.10</td>\n",
       "      <td>0.10</td>\n",
       "    </tr>\n",
       "  </tbody>\n",
       "</table>\n",
       "</div>"
      ],
      "text/plain": [
       "   peak_id  phylum_score  class_score  order_score  family_score  genus_score\n",
       "0  1310723          1.00          1.0          1.0          0.00         0.00\n",
       "1   616210          0.62          0.5          0.5          0.12         0.12\n",
       "2   616233          0.60          0.4          0.4          0.10         0.10"
      ]
     },
     "metadata": {},
     "output_type": "display_data"
    }
   ],
   "source": [
    "import pandas as pd\n",
    "\n",
    "df = pd.read_csv(\"sample_output/20109_MS1Former_taxscores.csv\")\n",
    "display(df)"
   ]
  },
  {
   "cell_type": "markdown",
   "id": "6636a9a5-d6b1-4876-acf3-bb6b8c2d929c",
   "metadata": {},
   "source": [
    "# Embedding MS<sup>2</sup> Signals\n",
    "\n",
    "MAPLE generates two distinct embeddings from MS fragmentation data, each fine-tuned for a specific downstream task:\n",
    "\n",
    "1. Chemotype embedding – optimized for approximate nearest neighbor (ANN)–based prediction of biosynthetic classes. This embedding captures broader chemical features relevant to class-level annotations.\n",
    "2. Analog embedding – designed to cluster structurally related derivatives within the same biosynthetic class, enabling finer-grained comparison of molecular variants.\n",
    "\n",
    "The following modules generate these embeddings based on the specified embedding type."
   ]
  },
  {
   "cell_type": "code",
   "execution_count": 7,
   "id": "61991a51-6dd5-4a68-8baa-1912e0fa5fff",
   "metadata": {},
   "outputs": [
    {
     "name": "stderr",
     "output_type": "stream",
     "text": [
      "100%|██████████| 150/150 [00:14<00:00, 10.21it/s]\n"
     ]
    }
   ],
   "source": [
    "# generating chemotype embedding\n",
    "\n",
    "from Maple.Embedder import run_MS2Former_on_mzXML\n",
    "\n",
    "run_MS2Former_on_mzXML(\n",
    "    peaks_fp=\"sample_output/20109_peaks.json\", # input data\n",
    "    output_fp=\"sample_output/20109_MS2Former_chemotype_embeddings.pkl\",\n",
    "    embedding_type=\"chemotype\",\n",
    "    gpu_id=0,\n",
    "    min_ms2=5,\n",
    ")"
   ]
  },
  {
   "cell_type": "code",
   "execution_count": 8,
   "id": "587eb6ff-8945-4396-8b42-f29aab248f13",
   "metadata": {},
   "outputs": [
    {
     "name": "stderr",
     "output_type": "stream",
     "text": [
      "100%|██████████| 150/150 [00:14<00:00, 10.32it/s]\n"
     ]
    }
   ],
   "source": [
    "# generating analog embedding \n",
    "\n",
    "from Maple.Embedder import run_MS2Former_on_mzXML\n",
    "\n",
    "run_MS2Former_on_mzXML(\n",
    "    peaks_fp=\"sample_output/20109_peaks.json\", # input data\n",
    "    output_fp=\"sample_output/20109_MS2Former_analog_embeddings.pkl\",\n",
    "    embedding_type=\"analog\",\n",
    "    gpu_id=0,\n",
    "    min_ms2=5,\n",
    ")"
   ]
  },
  {
   "cell_type": "markdown",
   "id": "99388561-8840-4dd4-bf81-c67f02a05126",
   "metadata": {},
   "source": [
    "The following shows the first entry of the output generated by the embedding modules."
   ]
  },
  {
   "cell_type": "code",
   "execution_count": 9,
   "id": "00cb6132-a059-4a3b-a24a-2a58ab3f2625",
   "metadata": {},
   "outputs": [
    {
     "name": "stdout",
     "output_type": "stream",
     "text": [
      "{'peak_id': 868422, 'embedding': array([-0.09877048, -1.5212228 ,  1.3384156 ,  0.4698092 ,  1.1919297 ,\n",
      "        1.701223  ,  0.9596497 ,  2.117453  , -0.927798  ,  0.6383174 ,\n",
      "        0.29976436, -0.783218  ,  3.620066  , -0.85373783,  1.6131049 ,\n",
      "        1.0558908 , -1.0299243 , -0.5408578 ,  1.5006096 ,  0.6871171 ,\n",
      "        1.6958839 ,  0.9642316 ,  0.84937024,  1.1635346 ,  1.4147906 ,\n",
      "       -1.6264155 ,  0.5953009 , -1.2708269 ,  1.8673004 ,  2.1998034 ,\n",
      "       -0.063664  ,  0.4811926 ,  2.9784348 ,  1.7199275 ,  1.3015515 ,\n",
      "       -0.5835962 ,  0.8174096 ,  1.49722   , -1.9747276 ,  1.8467396 ,\n",
      "       -0.01789707, -0.19416761,  2.5114574 ,  1.0124359 ,  0.58799523,\n",
      "        0.30747232, -0.847512  ,  0.77019155, -1.2247756 , -0.8647843 ,\n",
      "        2.7590735 ,  0.8098427 , -0.85064805,  1.4891274 ,  1.473404  ,\n",
      "        0.9046491 ,  1.8194584 ,  0.71513844, -0.86943173,  1.7123741 ,\n",
      "        0.8720225 , -2.1895921 , -2.0222898 , -1.1792221 , -1.2615494 ,\n",
      "        0.68223554,  0.00691056,  1.3084954 , -0.4825381 , -0.5400686 ,\n",
      "       -2.4902759 , -2.2065003 , -0.5569659 ,  0.9325346 , -0.9435463 ,\n",
      "        0.40966314,  2.2139807 ,  2.0891912 ,  0.11586533, -2.0337765 ,\n",
      "       -0.6741082 ,  3.6529331 ,  0.16200516,  0.32703882, -0.6096381 ,\n",
      "       -0.07395944,  1.6513622 , -0.863304  , -0.7752886 ,  1.1192311 ,\n",
      "       -0.8276876 , -1.3836566 , -0.05007335, -0.99503815, -1.2932367 ,\n",
      "       -1.4190427 ,  2.1483808 , -0.1864563 ,  2.4323492 ,  0.77715296,\n",
      "        0.72281975, -0.9194552 , -1.5654114 , -2.0929387 , -2.6120424 ,\n",
      "       -0.02377895,  2.3625236 , -0.82600117, -1.0722474 , -2.4237611 ,\n",
      "       -1.4313395 , -0.7416052 ,  1.6872438 ,  0.2798751 ,  2.4219582 ,\n",
      "       -2.1659224 , -0.7059241 ,  2.260267  ,  1.5800414 ,  0.61002785,\n",
      "       -1.8138851 ,  3.3317235 ,  1.401227  ,  2.0627384 ,  1.1847321 ,\n",
      "       -2.1751063 , -1.0647539 , -1.1171633 ], dtype=float32)}\n"
     ]
    }
   ],
   "source": [
    "import pickle\n",
    "\n",
    "data = pickle.load(open(\"sample_output/20109_MS2Former_analog_embeddings.pkl\", \"rb\"))\n",
    "print(data[0])"
   ]
  },
  {
   "cell_type": "markdown",
   "id": "bbf05e90-9a9d-4763-b15d-c136567590a3",
   "metadata": {},
   "source": [
    "Run the following code to perform ANN-based biosynthetic class prediction. It can be executed directly on the peak-picker results from the mzXML file (includes embedding generation)."
   ]
  },
  {
   "cell_type": "code",
   "execution_count": 10,
   "id": "08b51c11-240b-47c9-a026-e6723f0c9dbf",
   "metadata": {},
   "outputs": [
    {
     "name": "stderr",
     "output_type": "stream",
     "text": [
      "100%|██████████| 150/150 [00:14<00:00, 10.35it/s]\n"
     ]
    },
    {
     "name": "stdout",
     "output_type": "stream",
     "text": [
      "Loading existing collection ms2_chemotype_reference.\n"
     ]
    },
    {
     "name": "stderr",
     "output_type": "stream",
     "text": [
      "                                             \r"
     ]
    }
   ],
   "source": [
    "from Maple.Embedder import annotate_mzXML_with_chemotypes\n",
    "\n",
    "annotate_mzXML_with_chemotypes(\n",
    "    peaks_fp=\"sample_output/20109_peaks.json\", # input data\n",
    "    output_fp=\"sample_output/20109_MS2Former_chemotype_predictions.csv\",\n",
    ")"
   ]
  },
  {
   "cell_type": "markdown",
   "id": "0afda19d-6d94-4b0b-a36c-a064dbed400e",
   "metadata": {},
   "source": [
    "Alternatively, you can run it directly on the embedding output."
   ]
  },
  {
   "cell_type": "code",
   "execution_count": 11,
   "id": "16301c6d-ea10-4541-89be-4b66a064dd72",
   "metadata": {},
   "outputs": [
    {
     "name": "stdout",
     "output_type": "stream",
     "text": [
      "Loading existing collection ms2_chemotype_reference.\n"
     ]
    },
    {
     "name": "stderr",
     "output_type": "stream",
     "text": [
      "                                             \r"
     ]
    }
   ],
   "source": [
    "from Maple.Embedder import annotate_mzXML_with_chemotypes\n",
    "\n",
    "annotate_mzXML_with_chemotypes(\n",
    "    ms2_emb_fp=\"sample_output/20109_MS2Former_chemotype_embeddings.pkl\", # input data\n",
    "    output_fp=\"sample_output/20109_MS2Former_chemotype_predictions.csv\",\n",
    ")"
   ]
  },
  {
   "cell_type": "markdown",
   "id": "ad52db45-6db4-4012-9640-02cac1a44edf",
   "metadata": {},
   "source": [
    "This is an example output from the module. Distance refers to the Euclidean distance to the nearest annotated data point in the vector database. The homology score indicates how frequently the predicted chemotype appears among the top 10 nearest neighbors."
   ]
  },
  {
   "cell_type": "code",
   "execution_count": 12,
   "id": "3a1278fd-5531-432f-8ffc-cd29dd0f6ec7",
   "metadata": {},
   "outputs": [
    {
     "data": {
      "text/html": [
       "<div>\n",
       "<style scoped>\n",
       "    .dataframe tbody tr th:only-of-type {\n",
       "        vertical-align: middle;\n",
       "    }\n",
       "\n",
       "    .dataframe tbody tr th {\n",
       "        vertical-align: top;\n",
       "    }\n",
       "\n",
       "    .dataframe thead th {\n",
       "        text-align: right;\n",
       "    }\n",
       "</style>\n",
       "<table border=\"1\" class=\"dataframe\">\n",
       "  <thead>\n",
       "    <tr style=\"text-align: right;\">\n",
       "      <th></th>\n",
       "      <th>peak_id</th>\n",
       "      <th>label</th>\n",
       "      <th>homology</th>\n",
       "      <th>distance</th>\n",
       "    </tr>\n",
       "  </thead>\n",
       "  <tbody>\n",
       "    <tr>\n",
       "      <th>0</th>\n",
       "      <td>868422</td>\n",
       "      <td>TypeIPolyketide</td>\n",
       "      <td>0.8</td>\n",
       "      <td>11.268</td>\n",
       "    </tr>\n",
       "    <tr>\n",
       "      <th>1</th>\n",
       "      <td>1466445</td>\n",
       "      <td>TypeIPolyketide</td>\n",
       "      <td>0.6</td>\n",
       "      <td>11.985</td>\n",
       "    </tr>\n",
       "    <tr>\n",
       "      <th>2</th>\n",
       "      <td>688318</td>\n",
       "      <td>NonRibosomalPeptide</td>\n",
       "      <td>0.9</td>\n",
       "      <td>9.350</td>\n",
       "    </tr>\n",
       "    <tr>\n",
       "      <th>3</th>\n",
       "      <td>1270043</td>\n",
       "      <td>TypeIPolyketide</td>\n",
       "      <td>0.5</td>\n",
       "      <td>5.059</td>\n",
       "    </tr>\n",
       "    <tr>\n",
       "      <th>4</th>\n",
       "      <td>1220895</td>\n",
       "      <td>TypeIPolyketide</td>\n",
       "      <td>0.9</td>\n",
       "      <td>8.979</td>\n",
       "    </tr>\n",
       "    <tr>\n",
       "      <th>...</th>\n",
       "      <td>...</td>\n",
       "      <td>...</td>\n",
       "      <td>...</td>\n",
       "      <td>...</td>\n",
       "    </tr>\n",
       "    <tr>\n",
       "      <th>145</th>\n",
       "      <td>802553</td>\n",
       "      <td>TypeIPolyketide</td>\n",
       "      <td>0.7</td>\n",
       "      <td>12.743</td>\n",
       "    </tr>\n",
       "    <tr>\n",
       "      <th>146</th>\n",
       "      <td>679713</td>\n",
       "      <td>TypeIPolyketide</td>\n",
       "      <td>0.7</td>\n",
       "      <td>11.137</td>\n",
       "    </tr>\n",
       "    <tr>\n",
       "      <th>147</th>\n",
       "      <td>1335137</td>\n",
       "      <td>TypeIPolyketide</td>\n",
       "      <td>0.5</td>\n",
       "      <td>13.450</td>\n",
       "    </tr>\n",
       "    <tr>\n",
       "      <th>148</th>\n",
       "      <td>1220478</td>\n",
       "      <td>TypeIIPolyketide</td>\n",
       "      <td>1.0</td>\n",
       "      <td>8.915</td>\n",
       "    </tr>\n",
       "    <tr>\n",
       "      <th>149</th>\n",
       "      <td>1179596</td>\n",
       "      <td>TypeIPolyketide</td>\n",
       "      <td>0.6</td>\n",
       "      <td>9.605</td>\n",
       "    </tr>\n",
       "  </tbody>\n",
       "</table>\n",
       "<p>150 rows × 4 columns</p>\n",
       "</div>"
      ],
      "text/plain": [
       "     peak_id                label  homology  distance\n",
       "0     868422      TypeIPolyketide       0.8    11.268\n",
       "1    1466445      TypeIPolyketide       0.6    11.985\n",
       "2     688318  NonRibosomalPeptide       0.9     9.350\n",
       "3    1270043      TypeIPolyketide       0.5     5.059\n",
       "4    1220895      TypeIPolyketide       0.9     8.979\n",
       "..       ...                  ...       ...       ...\n",
       "145   802553      TypeIPolyketide       0.7    12.743\n",
       "146   679713      TypeIPolyketide       0.7    11.137\n",
       "147  1335137      TypeIPolyketide       0.5    13.450\n",
       "148  1220478     TypeIIPolyketide       1.0     8.915\n",
       "149  1179596      TypeIPolyketide       0.6     9.605\n",
       "\n",
       "[150 rows x 4 columns]"
      ]
     },
     "metadata": {},
     "output_type": "display_data"
    }
   ],
   "source": [
    "import pandas as pd\n",
    "\n",
    "df = pd.read_csv('sample_output/20109_MS2Former_chemotype_predictions.csv')\n",
    "display(df)"
   ]
  },
  {
   "cell_type": "markdown",
   "id": "153b906a-9899-4843-ac09-c0349395ea19",
   "metadata": {},
   "source": [
    "Run the following code to perform density-based MS<sup>2</sup> clustering across multiple processed mzXML files. The method supports comparison of millions of peaks simultaneously. For optimal performance, we recommend tuning the clustering parameters (`min_cluster_size` and `n_neighbors`). Default parameters used in the study are provided."
   ]
  },
  {
   "cell_type": "code",
   "execution_count": 13,
   "id": "f230f09e-4df6-43b9-87cc-a4c9ad70a6a0",
   "metadata": {},
   "outputs": [
    {
     "name": "stdout",
     "output_type": "stream",
     "text": [
      "Running Dimension Reduction ...\n",
      "Took 3.92 seconds\n",
      "Running Soft Clustering ...\n",
      "Took 0.03 seconds\n"
     ]
    }
   ],
   "source": [
    "from Maple.Embedder import compute_ms2_networks_from_mzXMLs\n",
    "\n",
    "out = compute_ms2_networks_from_mzXMLs(\n",
    "    ms2_emb_fps=[\n",
    "        'sample_output/20109_MS2Former_analog_embeddings.pkl'\n",
    "    ],\n",
    "    output_fp=\"sample_output/example_MS2Former_analog_predictions.csv\",\n",
    "    n_neighbors=15,\n",
    "    min_cluster_size=5,\n",
    ")"
   ]
  },
  {
   "cell_type": "markdown",
   "id": "447f3bbc-c80d-4cf7-9b08-a25fafbbabb5",
   "metadata": {},
   "source": [
    "This is an example output from the module. Here, each peak is assigned to a family id."
   ]
  },
  {
   "cell_type": "code",
   "execution_count": 14,
   "id": "f9a3c195-3213-4b13-9c86-85c5b043270c",
   "metadata": {},
   "outputs": [
    {
     "data": {
      "text/html": [
       "<div>\n",
       "<style scoped>\n",
       "    .dataframe tbody tr th:only-of-type {\n",
       "        vertical-align: middle;\n",
       "    }\n",
       "\n",
       "    .dataframe tbody tr th {\n",
       "        vertical-align: top;\n",
       "    }\n",
       "\n",
       "    .dataframe thead th {\n",
       "        text-align: right;\n",
       "    }\n",
       "</style>\n",
       "<table border=\"1\" class=\"dataframe\">\n",
       "  <thead>\n",
       "    <tr style=\"text-align: right;\">\n",
       "      <th></th>\n",
       "      <th>source</th>\n",
       "      <th>peak_id</th>\n",
       "      <th>family_id</th>\n",
       "    </tr>\n",
       "  </thead>\n",
       "  <tbody>\n",
       "    <tr>\n",
       "      <th>0</th>\n",
       "      <td>20109_MS2Former_analog_embeddings.pkl</td>\n",
       "      <td>868422</td>\n",
       "      <td>0</td>\n",
       "    </tr>\n",
       "    <tr>\n",
       "      <th>1</th>\n",
       "      <td>20109_MS2Former_analog_embeddings.pkl</td>\n",
       "      <td>1466445</td>\n",
       "      <td>0</td>\n",
       "    </tr>\n",
       "    <tr>\n",
       "      <th>2</th>\n",
       "      <td>20109_MS2Former_analog_embeddings.pkl</td>\n",
       "      <td>688318</td>\n",
       "      <td>2</td>\n",
       "    </tr>\n",
       "    <tr>\n",
       "      <th>3</th>\n",
       "      <td>20109_MS2Former_analog_embeddings.pkl</td>\n",
       "      <td>1270043</td>\n",
       "      <td>0</td>\n",
       "    </tr>\n",
       "    <tr>\n",
       "      <th>4</th>\n",
       "      <td>20109_MS2Former_analog_embeddings.pkl</td>\n",
       "      <td>1220895</td>\n",
       "      <td>0</td>\n",
       "    </tr>\n",
       "    <tr>\n",
       "      <th>...</th>\n",
       "      <td>...</td>\n",
       "      <td>...</td>\n",
       "      <td>...</td>\n",
       "    </tr>\n",
       "    <tr>\n",
       "      <th>145</th>\n",
       "      <td>20109_MS2Former_analog_embeddings.pkl</td>\n",
       "      <td>802553</td>\n",
       "      <td>0</td>\n",
       "    </tr>\n",
       "    <tr>\n",
       "      <th>146</th>\n",
       "      <td>20109_MS2Former_analog_embeddings.pkl</td>\n",
       "      <td>679713</td>\n",
       "      <td>2</td>\n",
       "    </tr>\n",
       "    <tr>\n",
       "      <th>147</th>\n",
       "      <td>20109_MS2Former_analog_embeddings.pkl</td>\n",
       "      <td>1335137</td>\n",
       "      <td>2</td>\n",
       "    </tr>\n",
       "    <tr>\n",
       "      <th>148</th>\n",
       "      <td>20109_MS2Former_analog_embeddings.pkl</td>\n",
       "      <td>1220478</td>\n",
       "      <td>0</td>\n",
       "    </tr>\n",
       "    <tr>\n",
       "      <th>149</th>\n",
       "      <td>20109_MS2Former_analog_embeddings.pkl</td>\n",
       "      <td>1179596</td>\n",
       "      <td>0</td>\n",
       "    </tr>\n",
       "  </tbody>\n",
       "</table>\n",
       "<p>150 rows × 3 columns</p>\n",
       "</div>"
      ],
      "text/plain": [
       "                                    source  peak_id  family_id\n",
       "0    20109_MS2Former_analog_embeddings.pkl   868422          0\n",
       "1    20109_MS2Former_analog_embeddings.pkl  1466445          0\n",
       "2    20109_MS2Former_analog_embeddings.pkl   688318          2\n",
       "3    20109_MS2Former_analog_embeddings.pkl  1270043          0\n",
       "4    20109_MS2Former_analog_embeddings.pkl  1220895          0\n",
       "..                                     ...      ...        ...\n",
       "145  20109_MS2Former_analog_embeddings.pkl   802553          0\n",
       "146  20109_MS2Former_analog_embeddings.pkl   679713          2\n",
       "147  20109_MS2Former_analog_embeddings.pkl  1335137          2\n",
       "148  20109_MS2Former_analog_embeddings.pkl  1220478          0\n",
       "149  20109_MS2Former_analog_embeddings.pkl  1179596          0\n",
       "\n",
       "[150 rows x 3 columns]"
      ]
     },
     "metadata": {},
     "output_type": "display_data"
    }
   ],
   "source": [
    "import pandas as pd\n",
    "\n",
    "df = pd.read_csv(\"sample_output/example_MS2Former_analog_predictions.csv\")\n",
    "display(df)"
   ]
  }
 ],
 "metadata": {
  "kernelspec": {
   "display_name": "MapleEmbedder-cu11.7",
   "language": "python",
   "name": "mapleembedder-cu11.7"
  },
  "language_info": {
   "codemirror_mode": {
    "name": "ipython",
    "version": 3
   },
   "file_extension": ".py",
   "mimetype": "text/x-python",
   "name": "python",
   "nbconvert_exporter": "python",
   "pygments_lexer": "ipython3",
   "version": "3.12.10"
  }
 },
 "nbformat": 4,
 "nbformat_minor": 5
}
