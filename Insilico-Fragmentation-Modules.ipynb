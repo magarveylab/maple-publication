{
 "cells": [
  {
   "cell_type": "markdown",
   "id": "92197c47-8c54-4fca-b107-4278c93dbae4",
   "metadata": {},
   "source": [
    "# Introduction\n",
    "The following modules operate within the Conda environment `MapleFragmenter`, which runs the in silico fragmentation module for annotating MS fragment ions. A separate environment is required due to dependency conflicts with other MAPLE modules.\n",
    "\n",
    "MAPLE computes theoretical fragmentation trees using a curated set of chemical reactions derived from [literature](https://pubs.rsc.org/en/content/articlelanding/2016/np/c5np00073d). The current implementation supports positive ion mode only."
   ]
  },
  {
   "cell_type": "code",
   "execution_count": 1,
   "id": "d41b724d-90e7-408b-8ad1-a40c5fc11c19",
   "metadata": {},
   "outputs": [
    {
     "name": "stdout",
     "output_type": "stream",
     "text": [
      "2025-07-21 01:12:03,588 Round 1\n",
      "2025-07-21 01:12:03,590 1 fragments to break\n"
     ]
    },
    {
     "name": "stderr",
     "output_type": "stream",
     "text": [
      "100%|██████████| 1/1 [00:00<00:00, 29.09it/s]"
     ]
    },
    {
     "name": "stdout",
     "output_type": "stream",
     "text": [
      "2025-07-21 01:12:03,632 New potential nodes to add: 3\n",
      "2025-07-21 01:12:03,633 New nodes to delete: 0\n",
      "2025-07-21 01:12:03,634 Round 2\n",
      "2025-07-21 01:12:03,635 3 fragments to break\n"
     ]
    },
    {
     "name": "stderr",
     "output_type": "stream",
     "text": [
      "\n",
      "100%|██████████| 3/3 [00:00<00:00, 76.95it/s]"
     ]
    },
    {
     "name": "stdout",
     "output_type": "stream",
     "text": [
      "2025-07-21 01:12:03,678 New potential nodes to add: 4\n",
      "2025-07-21 01:12:03,679 New nodes to delete: 0\n",
      "2025-07-21 01:12:03,680 Round 3\n",
      "2025-07-21 01:12:03,681 3 fragments to break\n"
     ]
    },
    {
     "name": "stderr",
     "output_type": "stream",
     "text": [
      "\n",
      "100%|██████████| 3/3 [00:00<00:00, 66.94it/s]"
     ]
    },
    {
     "name": "stdout",
     "output_type": "stream",
     "text": [
      "2025-07-21 01:12:03,730 New potential nodes to add: 2\n",
      "2025-07-21 01:12:03,731 New nodes to delete: 0\n",
      "2025-07-21 01:12:03,732 Round 4\n",
      "2025-07-21 01:12:03,733 3 fragments to break\n"
     ]
    },
    {
     "name": "stderr",
     "output_type": "stream",
     "text": [
      "\n",
      "100%|██████████| 3/3 [00:00<00:00, 99.87it/s]"
     ]
    },
    {
     "name": "stdout",
     "output_type": "stream",
     "text": [
      "2025-07-21 01:12:03,767 New potential nodes to add: 2\n",
      "2025-07-21 01:12:03,768 New nodes to delete: 0\n",
      "2025-07-21 01:12:03,769 Round 5\n",
      "2025-07-21 01:12:03,770 3 fragments to break\n"
     ]
    },
    {
     "name": "stderr",
     "output_type": "stream",
     "text": [
      "\n",
      "100%|██████████| 3/3 [00:00<00:00, 129.45it/s]"
     ]
    },
    {
     "name": "stdout",
     "output_type": "stream",
     "text": [
      "2025-07-21 01:12:03,797 New potential nodes to add: 0\n",
      "2025-07-21 01:12:03,798 New nodes to delete: 2\n",
      "2025-07-21 01:12:03,799 Round 6\n",
      "2025-07-21 01:12:03,800 1 fragments to break\n"
     ]
    },
    {
     "name": "stderr",
     "output_type": "stream",
     "text": [
      "\n",
      "100%|██████████| 1/1 [00:00<00:00, 52.07it/s]"
     ]
    },
    {
     "name": "stdout",
     "output_type": "stream",
     "text": [
      "2025-07-21 01:12:03,821 New potential nodes to add: 0\n",
      "2025-07-21 01:12:03,822 New nodes to delete: 0\n"
     ]
    },
    {
     "name": "stderr",
     "output_type": "stream",
     "text": [
      "\n"
     ]
    }
   ],
   "source": [
    "from Maple.Fragmenter import run_ms2_fragmenter\n",
    "\n",
    "run_ms2_fragmenter(\n",
    "    smiles=\"CNC[C@H](O)C1=CC=C(O)C(O)=C1\", # input data\n",
    "    output_fp=\"sample_output/example_insilico_fragmentation.json\"\n",
    ")"
   ]
  },
  {
   "cell_type": "markdown",
   "id": "786aad90-d491-4b70-8616-35ddad3d4ac8",
   "metadata": {},
   "source": [
    "This is an example of the output format. It documents the nodes and edges of the computed fragmentation tree. Each `rxn_id` corresponds to a specific curated reaction, which can be found in the table located at `Maple/Fragmenter/data/reactions`. This table is designed to be easily extensible using the SMARTS language for defining new reactions.\n",
    "\n",
    "For each fragment, we include the corresponding SMILES representation and track atomic mappings from the precursor through the entire fragmentation cascade. The atom-level tracking is especially valuable for training future machine learning models, as it provides additional structural context. Each fragment is assigned a unique identifier (`hash_id`), and the edges in the fragmentation tree are defined by `n1` and `n2`, which reference the connected fragment nodes by their respective `hash_id`s."
   ]
  },
  {
   "cell_type": "code",
   "execution_count": 10,
   "id": "d8835b2c-aeaf-4582-a314-0814bf232f6e",
   "metadata": {},
   "outputs": [
    {
     "name": "stdout",
     "output_type": "stream",
     "text": [
      "Example Node in fragmentation tree\n",
      "{'hash_id': 2767916987, 'smiles': '[CH3:1][NH2+:2][CH2:3][C@H:4]([OH:5])[c:6]1[cH:7][cH:8][c:9]([OH:10])[c:11]([OH:12])[cH:13]1', 'mass': 184.09681972809, 'formula': 'C9H14NO3+', 'rxn_type': 'ionization'}\n",
      "\n",
      "Example Edge in fragmentation tree\n",
      "{'n1': 2767916987, 'n2': 3797147471, 'rxn_id': 3, 'neutral_loss': '[CH3:1][NH2:2]'}\n"
     ]
    }
   ],
   "source": [
    "import json\n",
    "\n",
    "data = json.load(open(\"sample_output/example_insilico_fragmentation.json\"))\n",
    "\n",
    "print('Example Node in fragmentation tree')\n",
    "print(data['nodes'][0])\n",
    "print()\n",
    "print('Example Edge in fragmentation tree')\n",
    "print(data['edges'][0])"
   ]
  }
 ],
 "metadata": {
  "kernelspec": {
   "display_name": "MapleFragmenter",
   "language": "python",
   "name": "maplefragmenter"
  },
  "language_info": {
   "codemirror_mode": {
    "name": "ipython",
    "version": 3
   },
   "file_extension": ".py",
   "mimetype": "text/x-python",
   "name": "python",
   "nbconvert_exporter": "python",
   "pygments_lexer": "ipython3",
   "version": "3.7.10"
  }
 },
 "nbformat": 4,
 "nbformat_minor": 5
}
