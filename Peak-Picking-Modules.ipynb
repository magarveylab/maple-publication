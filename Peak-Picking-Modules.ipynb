{
 "cells": [
  {
   "cell_type": "markdown",
   "id": "fe29371e-e498-460c-a2fd-236484a1f53b",
   "metadata": {},
   "source": [
    "# Introduction\n",
    "The following modules operate within the Conda environment `MaplePeakPicker`. This environment is designed to run peak picking software (e.g. includes adduct detection and molecular formula prediction) to process raw mzXML data for downstream use in the embedding modules. A separate Conda environment is used here because the dependencies required for peak picking conflict with those used in the deep learning–based embedding modules."
   ]
  },
  {
   "cell_type": "markdown",
   "id": "e3009544-fa93-472f-b1de-6f0256f69ea8",
   "metadata": {},
   "source": [
    "# Preprocessing Raw mzXML Files\n",
    "\n",
    "MAPLE provides high-level inference functions for streamlined LC–MS/MS data preprocessing. Raw WIFF files should be converted to the mzXML format using [ProteoWizard](https://hub.docker.com/r/proteowizard/pwiz-skyline-i-agree-to-the-vendor-licenses).\n",
    "\n",
    "The preprocessing pipeline consists of the following steps:\n",
    "1. Data Loading – mzXML files are parsed using [pyOpenMS](https://pyopenms.readthedocs.io/en/latest/)\n",
    "2. EIC Decomposition – Spectral data is decomposed into extracted ion chromatograms (EICs)\n",
    "3. Isotopic Pattern Analysis – MS<sup>1</sup> signals are grouped into isotopic distributions, and charge states are assigned.\n",
    "4. Adduct Annotation - [Common adducts](https://github.com/magarveylab/maple-publication/blob/main/Maple/PeakPicker/database/adducts.csv) are identified to compute accrurate neutral monoisotopic mass.\n",
    "5. Molecular Formula Prediction - Candidate molecular formulas within 5 ppm of the observed mass are generated using [ChemCalc](https://www.chemcalc.org/), limited to common natural product elements (C, H, O, N, S, Cl, Br). [Brainpy](https://github.com/mobiusklein/brainpy) is used to compute theoretical isotopic distributions, which are compared to experimental data to prioritize high-confidence candidates."
   ]
  },
  {
   "cell_type": "code",
   "execution_count": 1,
   "id": "30a3a391-0fc8-4fb4-9770-e341295045ba",
   "metadata": {},
   "outputs": [
    {
     "name": "stdout",
     "output_type": "stream",
     "text": [
      "2025-07-21 01:04:44,045 Read mzXML data\n"
     ]
    },
    {
     "name": "stderr",
     "output_type": "stream",
     "text": [
      "/home/gunam/.conda/envs/MaplePeakPicker/lib/python3.6/site-packages/sklearn/ensemble/weight_boosting.py:29: DeprecationWarning: numpy.core.umath_tests is an internal NumPy module and should not be imported. It will be removed in a future NumPy release.\n",
      "  from numpy.core.umath_tests import inner1d\n"
     ]
    },
    {
     "name": "stdout",
     "output_type": "stream",
     "text": [
      "2025-07-21 01:04:44,679 Parse mzXML data\n"
     ]
    },
    {
     "name": "stderr",
     "output_type": "stream",
     "text": [
      "100%|██████████| 6481/6481 [00:02<00:00, 2176.03it/s]"
     ]
    },
    {
     "name": "stdout",
     "output_type": "stream",
     "text": [
      "2025-07-21 01:04:47,664 Decompose spectral data into EICs\n",
      "2025-07-21 01:04:47,665 Overlapping signals and organizing into network\n"
     ]
    },
    {
     "name": "stderr",
     "output_type": "stream",
     "text": [
      "\n",
      "100%|██████████| 1704/1704 [00:12<00:00, 131.70it/s]"
     ]
    },
    {
     "name": "stdout",
     "output_type": "stream",
     "text": [
      "2025-07-21 01:05:00,964 Find repersentative signals\n"
     ]
    },
    {
     "name": "stderr",
     "output_type": "stream",
     "text": [
      "\n",
      "100%|██████████| 230670/230670 [00:08<00:00, 26754.78it/s]"
     ]
    },
    {
     "name": "stdout",
     "output_type": "stream",
     "text": [
      "2025-07-21 01:05:12,716 Pre: 1528317 signals\n",
      "2025-07-21 01:05:12,717 Post: 258102 signals\n"
     ]
    },
    {
     "name": "stderr",
     "output_type": "stream",
     "text": [
      "\n"
     ]
    },
    {
     "name": "stdout",
     "output_type": "stream",
     "text": [
      "2025-07-21 01:05:13,424 Determine isotopic distributions\n",
      "2025-07-21 01:05:13,426 Find all possible isotopic distributions\n"
     ]
    },
    {
     "name": "stderr",
     "output_type": "stream",
     "text": [
      "100%|██████████| 1666/1666 [00:10<00:00, 158.22it/s]"
     ]
    },
    {
     "name": "stdout",
     "output_type": "stream",
     "text": [
      "2025-07-21 01:05:24,175 Priortization of isotopic distributions\n"
     ]
    },
    {
     "name": "stderr",
     "output_type": "stream",
     "text": [
      "\n",
      "100%|██████████| 151067/151067 [00:05<00:00, 26374.61it/s]\n"
     ]
    },
    {
     "name": "stdout",
     "output_type": "stream",
     "text": [
      "2025-07-21 01:05:30,490 Overlapping signals and organizing into network\n"
     ]
    },
    {
     "name": "stderr",
     "output_type": "stream",
     "text": [
      "100%|██████████| 1073/1073 [00:00<00:00, 1618.78it/s]"
     ]
    },
    {
     "name": "stdout",
     "output_type": "stream",
     "text": [
      "2025-07-21 01:05:31,532 Find repersentative signals\n"
     ]
    },
    {
     "name": "stderr",
     "output_type": "stream",
     "text": [
      "\n",
      "100%|██████████| 3727/3727 [00:00<00:00, 14712.34it/s]"
     ]
    },
    {
     "name": "stdout",
     "output_type": "stream",
     "text": [
      "2025-07-21 01:05:31,813 Pre: 17710 signals\n",
      "2025-07-21 01:05:31,814 Post: 3731 signals\n"
     ]
    },
    {
     "name": "stderr",
     "output_type": "stream",
     "text": [
      "\n"
     ]
    },
    {
     "name": "stdout",
     "output_type": "stream",
     "text": [
      "2025-07-21 01:05:32,373 Assign ms2 data\n"
     ]
    },
    {
     "name": "stderr",
     "output_type": "stream",
     "text": [
      "100%|██████████| 3731/3731 [00:01<00:00, 2645.64it/s]"
     ]
    },
    {
     "name": "stdout",
     "output_type": "stream",
     "text": [
      "2025-07-21 01:05:33,789 Detect Adducts\n",
      "2025-07-21 01:05:33,790 Pre-calculate Adduct Masses\n"
     ]
    },
    {
     "name": "stderr",
     "output_type": "stream",
     "text": [
      "\n"
     ]
    },
    {
     "name": "stdout",
     "output_type": "stream",
     "text": [
      "2025-07-21 01:05:35,006 Compute all possible adduct clusters\n"
     ]
    },
    {
     "name": "stderr",
     "output_type": "stream",
     "text": [
      "100%|██████████| 3731/3731 [00:11<00:00, 334.04it/s]"
     ]
    },
    {
     "name": "stdout",
     "output_type": "stream",
     "text": [
      "2025-07-21 01:05:46,801 Overlapping all adduct clusters\n"
     ]
    },
    {
     "name": "stderr",
     "output_type": "stream",
     "text": [
      "\n",
      "100%|██████████| 790/790 [00:01<00:00, 401.31it/s]"
     ]
    },
    {
     "name": "stdout",
     "output_type": "stream",
     "text": [
      "2025-07-21 01:05:49,770 Total clusters: 790\n"
     ]
    },
    {
     "name": "stderr",
     "output_type": "stream",
     "text": [
      "\n",
      "100%|██████████| 340/340 [00:08<00:00, 40.67it/s]\n"
     ]
    },
    {
     "name": "stdout",
     "output_type": "stream",
     "text": [
      "2025-07-21 01:05:58,851 Permutation: 1\n",
      "2025-07-21 01:05:58,852 Remaining Clusters: 34\n"
     ]
    },
    {
     "name": "stderr",
     "output_type": "stream",
     "text": [
      "100%|██████████| 13/13 [00:00<00:00, 23.70it/s]"
     ]
    },
    {
     "name": "stdout",
     "output_type": "stream",
     "text": [
      "2025-07-21 01:05:59,972 Permutation: 2\n",
      "2025-07-21 01:05:59,974 Remaining Clusters: 3\n"
     ]
    },
    {
     "name": "stderr",
     "output_type": "stream",
     "text": [
      "\n",
      "100%|██████████| 2/2 [00:00<00:00,  5.52it/s]"
     ]
    },
    {
     "name": "stdout",
     "output_type": "stream",
     "text": [
      "2025-07-21 01:06:00,829 Permutation: 3\n",
      "2025-07-21 01:06:00,830 Remaining Clusters: 0\n",
      "2025-07-21 01:06:00,843 Found 355 adduct clusters\n",
      "2025-07-21 01:06:00,891 Cleaning MASTERbook values for JSON output\n",
      "2025-07-21 01:06:00,933 Finished\n"
     ]
    },
    {
     "name": "stderr",
     "output_type": "stream",
     "text": [
      "\n"
     ]
    }
   ],
   "source": [
    "from Maple.PeakPicker import run_peak_picker\n",
    "\n",
    "run_peak_picker(\n",
    "    mzXML_fp=\"sample_data/20109_Chitinophaga__C408L_Czapek-Dox-1perstarch_HP20-XAD7bags_C12_1.mzXML\", # input data\n",
    "    output_fp=\"sample_output/20109_peaks.json\"\n",
    ")"
   ]
  },
  {
   "cell_type": "markdown",
   "id": "57a3b6aa-1f5c-4ab2-a061-93b21b368273",
   "metadata": {},
   "source": [
    "This is the first entry of the example output. It includes corresponding m/z, charge, intensity, and retention time. It also reports the number of scans in which the peak appears and any associated fragmentation data. The predicted adduct type is provided, and if the peak is part of an adduct network (i.e., other related adducts are detected), an adduct_cluster_id is assigned. Based on the adduct, the monoisotopic mass is calculated. Additionally, the isotopic distribution is reported, with each element representing an isotope: the first value indicates relative intensity, and the second indicates mass."
   ]
  },
  {
   "cell_type": "code",
   "execution_count": 2,
   "id": "a8162d26-4f34-4048-aa89-2873ec9feea4",
   "metadata": {},
   "outputs": [
    {
     "name": "stdout",
     "output_type": "stream",
     "text": [
      "{'scan_id': 1741, 'mz': 506.289, 'intensity': 4170, 'rt': 422.3, 'scan_count': 13, 'peak_id': 647173.0, 'charge': 1, 'ms2': [], 'adduct_type': 'MpIPpH', 'adduct_cluster_id': 159, 'monoisotopic_mass': 445.224, 'base_adduct': False, 'isotopic_distribution': [[1.0, 506.289], [0.608, 507.231]]}\n"
     ]
    }
   ],
   "source": [
    "import json\n",
    "\n",
    "data = json.load(open(\"sample_output/20109_peaks.json\"))\n",
    "\n",
    "print(data[0])"
   ]
  },
  {
   "cell_type": "markdown",
   "id": "b9a296ae-9621-4255-8611-c4a6b5a198db",
   "metadata": {},
   "source": [
    "Run the following code to predict molecular formulas independently, with faster inference achieved by prioritizing high-intensity signals."
   ]
  },
  {
   "cell_type": "code",
   "execution_count": 4,
   "id": "ca9837f7-3e99-4dbc-9568-97bb3da1e93c",
   "metadata": {},
   "outputs": [
    {
     "name": "stdout",
     "output_type": "stream",
     "text": [
      "2025-07-21 01:06:12,524 Predict Elemental Ratios\n"
     ]
    },
    {
     "name": "stderr",
     "output_type": "stream",
     "text": [
      "100%|██████████| 1/1 [00:00<00:00, 383.81it/s]"
     ]
    },
    {
     "name": "stdout",
     "output_type": "stream",
     "text": [
      "2025-07-21 01:06:12,532 Predict Formulas\n"
     ]
    },
    {
     "name": "stderr",
     "output_type": "stream",
     "text": [
      "\n",
      "100%|██████████| 1/1 [00:01<00:00,  1.82s/it]\n"
     ]
    }
   ],
   "source": [
    "from Maple.PeakPicker import run_formula_predictor\n",
    "import json\n",
    "\n",
    "query_peaks = [\n",
    "    {\"peak_id\": 31365361,\n",
    "     \"mass\": 283.084,\n",
    "     \"charge\": 1,\n",
    "     \"adduct_type\": \"2MpH\",\n",
    "     \"iso_mz\": [567.1758, 568.1783, 569.1757, 570.1852],\n",
    "     \"iso_intens\": [1, 0.324, 0.112, 0.039]}\n",
    "]\n",
    "\n",
    "run_formula_predictor(\n",
    "    peaks=query_peaks,\n",
    "    output_fp=\"sample_output/example_formula_predictions.json\",\n",
    "    cpu=10 # the number of cpu cores to use\n",
    ")"
   ]
  },
  {
   "cell_type": "markdown",
   "id": "79d9a4b1-9c00-4e1c-acb5-fa822d0f58b6",
   "metadata": {},
   "source": [
    "The following shows a sample output:"
   ]
  },
  {
   "cell_type": "code",
   "execution_count": 5,
   "id": "88605595-a798-48cd-93ed-13bc0d4910d5",
   "metadata": {},
   "outputs": [
    {
     "name": "stdout",
     "output_type": "stream",
     "text": [
      "[{'peak_id': 31365361, 'formulas': [{'formula': 'C16H13NO4', 'score': 89.12}]}]\n"
     ]
    }
   ],
   "source": [
    "import json\n",
    "\n",
    "data = json.load(open(\"sample_output/example_formula_predictions.json\"))\n",
    "print(data)"
   ]
  },
  {
   "cell_type": "markdown",
   "id": "1813a1f3-3c76-4d4d-ad30-2e30b551770f",
   "metadata": {},
   "source": [
    "# Analyzing Isotope Feeding Studies\n",
    "\n",
    "MAPLE includes inference functions for analyzing isotope feeding experiments by comparing control and labeled samples. It detects changes in isotopic distributions (measured using skewness) and identifies mass shifts in MS<sup>2</sup> fragmentation data. <sup>12</sup>C mzXML files must first be processed using the peak picking module."
   ]
  },
  {
   "cell_type": "code",
   "execution_count": 6,
   "id": "937b1686-0129-4f8b-87fd-abb1e22c4be3",
   "metadata": {},
   "outputs": [
    {
     "name": "stderr",
     "output_type": "stream",
     "text": [
      "100%|██████████| 6251/6251 [00:01<00:00, 3254.12it/s]\n",
      "100%|██████████| 1523/1523 [00:00<00:00, 379037.86it/s]\n",
      "100%|██████████| 1523/1523 [00:01<00:00, 882.26it/s]\n"
     ]
    }
   ],
   "source": [
    "from Maple.FeedingAnalysis import run_feeding_analysis\n",
    "\n",
    "run_feeding_analysis(\n",
    "    c13_mzXML_fp=\"sample_data/20111_Chitinophaga__C408L_Czapek-Dox-1perstarch_HP20-XAD7bags_C13_1.mzXML\", # input data\n",
    "    c12_peaks_fp=\"sample_output/20109_peaks.json\", # input data\n",
    "    output_fp=\"sample_output/20111_feeding_results.json\"\n",
    ")"
   ]
  },
  {
   "cell_type": "markdown",
   "id": "2da2534f-44fa-42ee-8842-53415b1d7ae2",
   "metadata": {},
   "source": [
    "This is the first entry of the example output. It includes MS information for a detected peak in the C13 file, its corresponding overlapping peak in the C12 file, and the calculated skewness."
   ]
  },
  {
   "cell_type": "code",
   "execution_count": 7,
   "id": "35f27061-0ff8-4276-a4c9-f8383fc0d993",
   "metadata": {},
   "outputs": [
    {
     "name": "stdout",
     "output_type": "stream",
     "text": [
      "{'scan_id': 4630, 'mz': 964.644, 'charge': 1, 'rt': 836.898, 'isotopic_distribution': [[1.0, 964.644], [0.9073, 965.643], [0.4908, 966.649], [0.1814, 967.643]], 'intensity_raw': 183090, 'ms2': [], 'skew': -0.1833, 'shifted_ms2': [], 'overlap_peaks': [{'peak_id': 1327140.0, 'skew': 0.1087}]}\n"
     ]
    }
   ],
   "source": [
    "import json\n",
    "\n",
    "data = json.load(open(\"sample_output/20111_feeding_results.json\"))\n",
    "print(data[0])"
   ]
  },
  {
   "cell_type": "markdown",
   "id": "5b825f56-29fc-4db0-9e85-da67c8870b04",
   "metadata": {},
   "source": [
    "The following function can be used to calculate skewness from the isotopic distribution. This calculation is already integrated into the `run_feeding_analysis` function."
   ]
  },
  {
   "cell_type": "code",
   "execution_count": 8,
   "id": "9dea1688-92e9-4154-96e9-87710ceb78df",
   "metadata": {},
   "outputs": [
    {
     "name": "stdout",
     "output_type": "stream",
     "text": [
      "Calculated Skewness 0.273\n"
     ]
    }
   ],
   "source": [
    "from Maple.FeedingAnalysis import get_isot_dist_skewness\n",
    "\n",
    "iso_mz = [937.684, 938.687, 939.689, 940.694, 941.694]\n",
    "iso_intens = [1, 0.558, 0.188, 0.046, 0.009]\n",
    "skew = get_isot_dist_skewness(iso_mz=iso_mz, iso_intens=iso_intens)\n",
    "\n",
    "print(f\"Calculated Skewness {skew}\")"
   ]
  },
  {
   "cell_type": "markdown",
   "id": "06848bc9-88dd-4729-b0d9-7925233f3736",
   "metadata": {},
   "source": [
    "The Dixon Q test is used to determine whether the <sup>13</sup>C skewness represents a statistical outlier."
   ]
  },
  {
   "cell_type": "code",
   "execution_count": 9,
   "id": "42727188-4e22-4005-8aac-4aedaa887418",
   "metadata": {},
   "outputs": [
    {
     "name": "stdout",
     "output_type": "stream",
     "text": [
      "{'shift': True, 'stats': {'normality': True, 'Q_min': 0.725, 'Q_crit': 0.634, 'n': 8, 'outlier': True}}\n"
     ]
    }
   ],
   "source": [
    "from Maple.FeedingAnalysis import does_peak_shift\n",
    "\n",
    "c12_skew_values = [0.3098, 0.2913, 0.273, 0.2825, 0.2695, 0.2822, 0.2668]\n",
    "c13_skew_value = 0.1537\n",
    "result = does_peak_shift(c12_skew_values, c13_skew_value, alpha=0.01)\n",
    "print(result)"
   ]
  }
 ],
 "metadata": {
  "kernelspec": {
   "display_name": "MaplePeakPicker",
   "language": "python",
   "name": "maplepeakpicker"
  },
  "language_info": {
   "codemirror_mode": {
    "name": "ipython",
    "version": 3
   },
   "file_extension": ".py",
   "mimetype": "text/x-python",
   "name": "python",
   "nbconvert_exporter": "python",
   "pygments_lexer": "ipython3",
   "version": "3.6.12"
  }
 },
 "nbformat": 4,
 "nbformat_minor": 5
}
